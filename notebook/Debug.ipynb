{
 "cells": [
  {
   "cell_type": "code",
   "execution_count": 1,
   "id": "a0a2e2a3-75de-4717-962f-addee2792e98",
   "metadata": {},
   "outputs": [],
   "source": [
    "import pathlib\n",
    "import numpy as np\n",
    "import pandas as pd\n",
    "\n",
    "import torch\n",
    "import torch.nn as nn\n",
    "from torch.utils.data import DataLoader, Dataset\n",
    "import transformers\n",
    "from transformers import (\n",
    "    AdamW,\n",
    "    BertConfig,\n",
    "    BertModel,\n",
    "    BertTokenizer,\n",
    "    get_linear_schedule_with_warmup,\n",
    "    AutoTokenizer,\n",
    "    AutoModelForSequenceClassification,\n",
    ")"
   ]
  },
  {
   "cell_type": "code",
   "execution_count": 2,
   "id": "135c8850-ff01-4b7c-938c-b7bf6b0fffb8",
   "metadata": {},
   "outputs": [],
   "source": [
    "input_dir = pathlib.Path(\"../data/raw\")\n",
    "\n",
    "train = pd.read_csv(input_dir / 'train.csv')\n",
    "test = pd.read_csv(input_dir / 'test.csv')\n",
    "smpl_sub = pd.read_csv(input_dir / 'sample_submission.csv')"
   ]
  },
  {
   "cell_type": "code",
   "execution_count": 3,
   "id": "3f801daf-9527-457b-b1a0-e134ec13b72c",
   "metadata": {},
   "outputs": [
    {
     "data": {
      "text/html": [
       "<div>\n",
       "<style scoped>\n",
       "    .dataframe tbody tr th:only-of-type {\n",
       "        vertical-align: middle;\n",
       "    }\n",
       "\n",
       "    .dataframe tbody tr th {\n",
       "        vertical-align: top;\n",
       "    }\n",
       "\n",
       "    .dataframe thead th {\n",
       "        text-align: right;\n",
       "    }\n",
       "</style>\n",
       "<table border=\"1\" class=\"dataframe\">\n",
       "  <thead>\n",
       "    <tr style=\"text-align: right;\">\n",
       "      <th></th>\n",
       "      <th>id</th>\n",
       "      <th>url_legal</th>\n",
       "      <th>license</th>\n",
       "      <th>excerpt</th>\n",
       "      <th>target</th>\n",
       "      <th>standard_error</th>\n",
       "    </tr>\n",
       "  </thead>\n",
       "  <tbody>\n",
       "    <tr>\n",
       "      <th>0</th>\n",
       "      <td>c12129c31</td>\n",
       "      <td>NaN</td>\n",
       "      <td>NaN</td>\n",
       "      <td>When the young people returned to the ballroom...</td>\n",
       "      <td>-0.340259</td>\n",
       "      <td>0.464009</td>\n",
       "    </tr>\n",
       "    <tr>\n",
       "      <th>1</th>\n",
       "      <td>85aa80a4c</td>\n",
       "      <td>NaN</td>\n",
       "      <td>NaN</td>\n",
       "      <td>All through dinner time, Mrs. Fayre was somewh...</td>\n",
       "      <td>-0.315372</td>\n",
       "      <td>0.480805</td>\n",
       "    </tr>\n",
       "    <tr>\n",
       "      <th>2</th>\n",
       "      <td>b69ac6792</td>\n",
       "      <td>NaN</td>\n",
       "      <td>NaN</td>\n",
       "      <td>As Roger had predicted, the snow departed as q...</td>\n",
       "      <td>-0.580118</td>\n",
       "      <td>0.476676</td>\n",
       "    </tr>\n",
       "    <tr>\n",
       "      <th>3</th>\n",
       "      <td>dd1000b26</td>\n",
       "      <td>NaN</td>\n",
       "      <td>NaN</td>\n",
       "      <td>And outside before the palace a great garden w...</td>\n",
       "      <td>-1.054013</td>\n",
       "      <td>0.450007</td>\n",
       "    </tr>\n",
       "    <tr>\n",
       "      <th>4</th>\n",
       "      <td>37c1b32fb</td>\n",
       "      <td>NaN</td>\n",
       "      <td>NaN</td>\n",
       "      <td>Once upon a time there were Three Bears who li...</td>\n",
       "      <td>0.247197</td>\n",
       "      <td>0.510845</td>\n",
       "    </tr>\n",
       "  </tbody>\n",
       "</table>\n",
       "</div>"
      ],
      "text/plain": [
       "          id url_legal license  \\\n",
       "0  c12129c31       NaN     NaN   \n",
       "1  85aa80a4c       NaN     NaN   \n",
       "2  b69ac6792       NaN     NaN   \n",
       "3  dd1000b26       NaN     NaN   \n",
       "4  37c1b32fb       NaN     NaN   \n",
       "\n",
       "                                             excerpt    target  standard_error  \n",
       "0  When the young people returned to the ballroom... -0.340259        0.464009  \n",
       "1  All through dinner time, Mrs. Fayre was somewh... -0.315372        0.480805  \n",
       "2  As Roger had predicted, the snow departed as q... -0.580118        0.476676  \n",
       "3  And outside before the palace a great garden w... -1.054013        0.450007  \n",
       "4  Once upon a time there were Three Bears who li...  0.247197        0.510845  "
      ]
     },
     "execution_count": 3,
     "metadata": {},
     "output_type": "execute_result"
    }
   ],
   "source": [
    "train.head()"
   ]
  },
  {
   "cell_type": "code",
   "execution_count": 4,
   "id": "62f7d8a5-81c1-447d-9856-e0682cbba9a3",
   "metadata": {},
   "outputs": [],
   "source": [
    "class CommonLitDataset(Dataset):\n",
    "    def __init__(self, target, excerpt, tokenizer, max_len):\n",
    "        self.target = target\n",
    "        self.excerpt = excerpt\n",
    "        self.tokenizer = tokenizer\n",
    "        self.max_len = max_len\n",
    "\n",
    "    def __len__(self):\n",
    "        return len(self.excerpt)\n",
    "\n",
    "    def __getitem__(self, item):\n",
    "        text = str(self.excerpt[item])\n",
    "        inputs = self.tokenizer(\n",
    "            text, \n",
    "            max_length=self.max_len, \n",
    "            padding=\"max_length\", \n",
    "            truncation=True\n",
    "        )\n",
    "\n",
    "        ids = inputs[\"input_ids\"]\n",
    "        mask = inputs[\"attention_mask\"]\n",
    "        token_id = inputs[\"token_type_ids\"]\n",
    "        \n",
    "        target = self.target[item]\n",
    "\n",
    "        return {\n",
    "            \"input_ids\": torch.tensor(ids, dtype=torch.long),\n",
    "            \"attention_mask\": torch.tensor(mask, dtype=torch.long),\n",
    "            \"target\": torch.tensor(target, dtype=torch.double),\n",
    "        }\n",
    "    \n",
    "    \n",
    "class CommonLitModel(nn.Module):\n",
    "    def __init__(self, model_path):\n",
    "        super(CommonLitModel, self).__init__()\n",
    "        self.bert = BertModel.from_pretrained(model_path)\n",
    "        self.out = nn.Linear(768, 1)\n",
    "        \n",
    "    def forward(self, ids, mask, token_type_ids=None):\n",
    "        _, output = self.bert(ids, attention_mask=mask, token_type_ids=token_type_ids, return_dict=False)\n",
    "        output = self.out(output)\n",
    "        return output"
   ]
  },
  {
   "cell_type": "code",
   "execution_count": 5,
   "id": "67e5bb4f-6805-448b-9e9f-36c5b0050bef",
   "metadata": {},
   "outputs": [],
   "source": [
    "model_path = \"bert-base-uncased\"\n",
    "\n",
    "model = BertModel.from_pretrained(model_path)\n",
    "tokenizer = BertTokenizer.from_pretrained(model_path)"
   ]
  },
  {
   "cell_type": "code",
   "execution_count": 6,
   "id": "1f0e58a6-4564-4b46-9375-59facb66f7c0",
   "metadata": {},
   "outputs": [],
   "source": [
    "dataset = CommonLitDataset(train[\"target\"], excerpt=train['excerpt'], tokenizer=tokenizer, max_len=100)\n",
    "data_loader = DataLoader(dataset, batch_size=32, shuffle=True)"
   ]
  },
  {
   "cell_type": "code",
   "execution_count": 7,
   "id": "25b04b9d-68c8-439c-9312-65696e039683",
   "metadata": {},
   "outputs": [],
   "source": [
    "dataloader_iter = iter(data_loader)"
   ]
  },
  {
   "cell_type": "code",
   "execution_count": 9,
   "id": "63993ecc-f7df-45ba-9e29-b5115e7c1fd6",
   "metadata": {},
   "outputs": [],
   "source": [
    "smpl_data = dataloader_iter.next()"
   ]
  },
  {
   "cell_type": "code",
   "execution_count": 12,
   "id": "4615cafd-5bcd-47fd-bd19-f2263027e1bb",
   "metadata": {},
   "outputs": [],
   "source": [
    "model = CommonLitModel(model_path)\n",
    "z = model(smpl_data['input_ids'], smpl_data['attention_mask'])"
   ]
  },
  {
   "cell_type": "code",
   "execution_count": 13,
   "id": "186e7dd4-2269-4ab7-809e-d29fff664551",
   "metadata": {},
   "outputs": [
    {
     "data": {
      "text/plain": [
       "tensor([[0.4939],\n",
       "        [0.4185],\n",
       "        [0.5105],\n",
       "        [0.3803],\n",
       "        [0.5780],\n",
       "        [0.4830],\n",
       "        [0.5224],\n",
       "        [0.6072],\n",
       "        [0.6168],\n",
       "        [0.2091],\n",
       "        [0.5405],\n",
       "        [0.5386],\n",
       "        [0.5783],\n",
       "        [0.5864],\n",
       "        [0.5090],\n",
       "        [0.4866],\n",
       "        [0.2648],\n",
       "        [0.6567],\n",
       "        [0.6368],\n",
       "        [0.0676],\n",
       "        [0.5711],\n",
       "        [0.5017],\n",
       "        [0.5236],\n",
       "        [0.5658],\n",
       "        [0.3929],\n",
       "        [0.4598],\n",
       "        [0.3017],\n",
       "        [0.5262],\n",
       "        [0.6805],\n",
       "        [0.4418],\n",
       "        [0.5334],\n",
       "        [0.5256]], grad_fn=<AddmmBackward>)"
      ]
     },
     "execution_count": 13,
     "metadata": {},
     "output_type": "execute_result"
    }
   ],
   "source": [
    "z"
   ]
  }
 ],
 "metadata": {
  "kernelspec": {
   "display_name": "Python 3",
   "language": "python",
   "name": "python3"
  },
  "language_info": {
   "codemirror_mode": {
    "name": "ipython",
    "version": 3
   },
   "file_extension": ".py",
   "mimetype": "text/x-python",
   "name": "python",
   "nbconvert_exporter": "python",
   "pygments_lexer": "ipython3",
   "version": "3.8.7"
  }
 },
 "nbformat": 4,
 "nbformat_minor": 5
}
